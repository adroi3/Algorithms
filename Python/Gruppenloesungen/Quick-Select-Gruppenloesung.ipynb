{
 "cells": [
  {
   "cell_type": "code",
   "execution_count": 25,
   "id": "dce0d4ea",
   "metadata": {},
   "outputs": [],
   "source": [
    "def swap(x, y, L):\n",
    "    L[x], L[y] = L[y], L[x]\n",
    "\n",
    "def partition(start, end, L):\n",
    "    pivot = L[end]\n",
    "    left  = start - 1\n",
    "    for idx in range(start, end):\n",
    "        if L[idx] <= pivot:\n",
    "            left += 1\n",
    "            swap(left, idx, L)\n",
    "    swap(left + 1, end, L)\n",
    "    return left + 1"
   ]
  },
  {
   "cell_type": "code",
   "execution_count": 30,
   "id": "72b99f1e",
   "metadata": {},
   "outputs": [
    {
     "data": {
      "text/plain": [
       "[1, 2, 3, 4, 1, 2, 3, 4, 5, 6]"
      ]
     },
     "execution_count": 30,
     "metadata": {},
     "output_type": "execute_result"
    }
   ],
   "source": [
    "L = [1,2,4,3]\n",
    "partition(0, 3, L), L\n",
    "\n",
    "def quickSelect(L,k):\n",
    "    indexOfX = partition(0, len(L)-1, L)\n",
    "    \n",
    "    x = L[indexOfX]\n",
    "    \n",
    "    S = L[:indexOfX]\n",
    "    B = L[indexOfX+1:]\n",
    "    \n",
    "    if len(S) > k:\n",
    "        return quickSelect(S, k)\n",
    "    if len(S) == k:\n",
    "        return S\n",
    "    if len(S) == k-1:\n",
    "        return S+[x]\n",
    "    return S+[x]+quickSelect(B, k-len(S)-1)\n",
    "\n",
    "K = [x for x in range(1, 101)]+L\n",
    "\n",
    "quickSelect(K, 10)"
   ]
  },
  {
   "cell_type": "code",
   "execution_count": null,
   "id": "7921fcf5",
   "metadata": {},
   "outputs": [],
   "source": []
  }
 ],
 "metadata": {
  "kernelspec": {
   "display_name": "Python 3",
   "language": "python",
   "name": "python3"
  },
  "language_info": {
   "codemirror_mode": {
    "name": "ipython",
    "version": 3
   },
   "file_extension": ".py",
   "mimetype": "text/x-python",
   "name": "python",
   "nbconvert_exporter": "python",
   "pygments_lexer": "ipython3",
   "version": "3.9.2"
  }
 },
 "nbformat": 4,
 "nbformat_minor": 5
}
