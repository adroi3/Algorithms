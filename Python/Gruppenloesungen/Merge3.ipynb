{
 "cells": [
  {
   "cell_type": "code",
   "execution_count": 1,
   "metadata": {},
   "outputs": [],
   "source": [
    "def merge(L1, L2):\n",
    "    if L1 == []:\n",
    "        return L2\n",
    "    if L2 == []:\n",
    "        return L1\n",
    "    x1, *R1 = L1\n",
    "    x2, *R2 = L2\n",
    "    if x1 <= x2:\n",
    "        return [x1] + merge(R1, L2)\n",
    "    else:\n",
    "        return [x2] + merge(L1, R2)"
   ]
  },
  {
   "cell_type": "code",
   "execution_count": 2,
   "metadata": {},
   "outputs": [],
   "source": [
    "def merge3(L1, L2, L3):\n",
    "    if L1 == []:\n",
    "        return merge(L2, L3)\n",
    "    if L2 == []:\n",
    "        return merge(L1, L3)\n",
    "    if L3 == []:\n",
    "        return merge(L1, L2)\n",
    "    x1, *R1 = L1\n",
    "    x2, *R2 = L2\n",
    "    x3, *R3 = L3\n",
    "    \n",
    "\n",
    "    if x1 <= x2:\n",
    "        if x1 <= x3:\n",
    "            return [x1] + merge3(R1, L2, L3)\n",
    "        else:\n",
    "            return [x3] + merge3(L1, L2, R3)\n",
    "    else:\n",
    "        if x2 <= x3:\n",
    "            return [x2] + merge3(L1, R2, L3)\n",
    "        else:\n",
    "            return [x3] + merge3(L1, L2, R3) \n",
    "    \n",
    "    \n",
    "    "
   ]
  },
  {
   "cell_type": "code",
   "execution_count": 3,
   "metadata": {},
   "outputs": [
    {
     "data": {
      "text/plain": [
       "[1, 2, 3, 4, 5, 6, 7, 8, 9]"
      ]
     },
     "execution_count": 3,
     "metadata": {},
     "output_type": "execute_result"
    }
   ],
   "source": [
    "def sort(L):\n",
    "    n = len(L)\n",
    "    if n<=1:\n",
    "        return L\n",
    "    else:\n",
    "        return merge3(sort(L[:n//3]),sort(L[n//3:(2*n)//3]),sort(L[(2*n)//3:]))\n",
    "\n",
    "\n",
    "sort([9,8,7,6,5,4,3,2,1])"
   ]
  }
 ],
 "metadata": {
  "kernelspec": {
   "display_name": "Python 3",
   "language": "python",
   "name": "python3"
  },
  "language_info": {
   "codemirror_mode": {
    "name": "ipython",
    "version": 3
   },
   "file_extension": ".py",
   "mimetype": "text/x-python",
   "name": "python",
   "nbconvert_exporter": "python",
   "pygments_lexer": "ipython3",
   "version": "3.9.2"
  }
 },
 "nbformat": 4,
 "nbformat_minor": 4
}
